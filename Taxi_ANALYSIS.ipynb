{
 "cells": [
  {
   "cell_type": "markdown",
   "metadata": {
    "application/vnd.databricks.v1+cell": {
     "inputWidgets": {},
     "nuid": "ea9a16c2-3b0e-47b0-ae07-f6aa70bf63c7",
     "showTitle": false,
     "title": ""
    }
   },
   "source": [
    "# Data Cleaning, Preprocessing and Analysis"
   ]
  },
  {
   "cell_type": "markdown",
   "metadata": {
    "application/vnd.databricks.v1+cell": {
     "inputWidgets": {},
     "nuid": "6319fdd0-a144-4dc6-a105-c7f0d511e367",
     "showTitle": false,
     "title": ""
    }
   },
   "source": [
    "In this file, we will Clean and Analyse our dataset. \n",
    "\n",
    "For Cleaning, we use Percentiles and remove outliers. We then preprocess the data and perform certain Analysis such as Granger Causality, Johanson's Cointigration test and ADF Test. These tests are done to prove as to why we are using the Vector Autoregressive Model for our solution"
   ]
  },
  {
   "cell_type": "code",
   "execution_count": 0,
   "metadata": {
    "application/vnd.databricks.v1+cell": {
     "inputWidgets": {},
     "nuid": "1df9a32d-0080-40e0-99b0-a8e8c7d3b05a",
     "showTitle": false,
     "title": ""
    }
   },
   "outputs": [
    {
     "data": {
      "text/html": [
       "<style scoped>\n",
       "  .ansiout {\n",
       "    display: block;\n",
       "    unicode-bidi: embed;\n",
       "    white-space: pre-wrap;\n",
       "    word-wrap: break-word;\n",
       "    word-break: break-all;\n",
       "    font-family: \"Source Code Pro\", \"Menlo\", monospace;;\n",
       "    font-size: 13px;\n",
       "    color: #555;\n",
       "    margin-left: 4px;\n",
       "    line-height: 19px;\n",
       "  }\n",
       "</style>\n",
       "<div class=\"ansiout\"></div>"
      ]
     },
     "metadata": {
      "application/vnd.databricks.v1+output": {
       "addedWidgets": {},
       "arguments": {},
       "data": "<div class=\"ansiout\"></div>",
       "datasetInfos": [],
       "metadata": {},
       "removedWidgets": [],
       "type": "html"
      }
     },
     "output_type": "display_data"
    }
   ],
   "source": [
    "import numpy as np\n",
    "import pandas as pd\n",
    "from pyspark.sql import functions as F\n",
    "\n",
    "from pyspark.sql.functions import monotonically_increasing_id\n",
    "from pyspark.sql.functions import pandas_udf, PandasUDFType\n",
    "from pyspark.sql.types import DoubleType\n",
    "from pyspark.sql.types import *\n",
    "import time\n",
    "import random\n",
    "\n",
    "import numpy as np\n",
    "import matplotlib.pyplot as plt\n",
    "from statsmodels.tsa.api import VAR\n",
    "from statsmodels.tsa.stattools import adfuller\n",
    "from statsmodels.tools.eval_measures import rmse, aic\n",
    "from sklearn.metrics import mean_absolute_percentage_error\n",
    "from statsmodels.stats.stattools import durbin_watson\n",
    "from statsmodels.tsa.stattools import grangercausalitytests\n",
    "from statsmodels.tsa.vector_ar.vecm import coint_johansen\n",
    "from sklearn.metrics import mean_absolute_percentage_error, mean_squared_error, mean_absolute_error\n",
    "import math\n",
    "from statsmodels.tsa.stattools import acf\n",
    "from sklearn.metrics import mean_squared_error\n",
    "\n",
    "import warnings\n",
    "warnings.filterwarnings(\"ignore\")"
   ]
  },
  {
   "cell_type": "markdown",
   "metadata": {
    "application/vnd.databricks.v1+cell": {
     "inputWidgets": {},
     "nuid": "3f031239-3833-4a78-99a8-3a26de37aeef",
     "showTitle": false,
     "title": ""
    }
   },
   "source": [
    "<h3> Import Data"
   ]
  },
  {
   "cell_type": "code",
   "execution_count": 0,
   "metadata": {
    "application/vnd.databricks.v1+cell": {
     "inputWidgets": {},
     "nuid": "ae5f3884-6039-4b66-a61a-d90e7009b561",
     "showTitle": false,
     "title": ""
    }
   },
   "outputs": [
    {
     "data": {
      "text/html": [
       "<style scoped>\n",
       "  .ansiout {\n",
       "    display: block;\n",
       "    unicode-bidi: embed;\n",
       "    white-space: pre-wrap;\n",
       "    word-wrap: break-word;\n",
       "    word-break: break-all;\n",
       "    font-family: \"Source Code Pro\", \"Menlo\", monospace;;\n",
       "    font-size: 13px;\n",
       "    color: #555;\n",
       "    margin-left: 4px;\n",
       "    line-height: 19px;\n",
       "  }\n",
       "</style>\n",
       "<div class=\"ansiout\">Out[4]: 22511036</div>"
      ]
     },
     "metadata": {
      "application/vnd.databricks.v1+output": {
       "addedWidgets": {},
       "arguments": {},
       "data": "<div class=\"ansiout\">Out[4]: 22511036</div>",
       "datasetInfos": [],
       "metadata": {},
       "removedWidgets": [],
       "type": "html"
      }
     },
     "output_type": "display_data"
    }
   ],
   "source": [
    "def import_data(filepaths):\n",
    "  \"\"\"\n",
    "  Import Data from list of filepaths and concatanate \n",
    "  \"\"\"\n",
    "  df = spark.read.csv(filepaths[0],header=True)\n",
    "  for path in filepaths[1:]:\n",
    "    df = df.unionByName(spark.read.csv(path,header=True))\n",
    "  return df\n",
    "\n",
    "\n",
    "# Import Data\n",
    "taxi = import_data([\"/mnt/pirates-of-the-carribbytes/taxi_data/taxi_2019-01.csv\",\n",
    "                    \"/mnt/pirates-of-the-carribbytes/taxi_data/taxi_2019-02.csv\",\n",
    "                    \"/mnt/pirates-of-the-carribbytes/taxi_data/taxi_2019-03.csv\"])\n",
    "\n",
    "\n",
    "# Import Zone data and join with our dataset. Remove datapoints from EWR and Staten Island\n",
    "zones = spark.read.csv(\"/mnt/pirates-of-the-carribbytes/taxi_data/zone_lookup.csv\",header=True).drop(\"Zone\",\"service_zone\")\n",
    "taxi = taxi.join(zones,taxi.PULocationID == zones.LocationID)\\\n",
    "                 .withColumnRenamed(\"Borough\",\"Division\")\\\n",
    "                 .filter((F.col('Division') != 'EWR') & (F.col('Division') != 'Staten Island'))\n",
    "\n",
    "# Filter to ensure no outlier years are included (we found a timestamp of 2088) and remove unnecessary columns\n",
    "taxi = taxi.filter((F.unix_timestamp(taxi.tpep_pickup_datetime)>=1546300800) & (F.unix_timestamp(taxi.tpep_pickup_datetime)<=1554073200))\\\n",
    "           .drop('VendorID', 'RatecodeID', 'store_and_fwd_flag','DOLocationID','fare_amount','extra',\"LocationID\",\"PULocationID\",\n",
    "                 'mta_tax', 'tip_amount', 'tolls_amount', 'improvement_surcharge', 'congestion_surcharge', 'payment_type')\n",
    "\n",
    "\n",
    "\n",
    "divs = [\"Manhattan\", \"Queens\", \"Bronx\",\"Brooklyn\", \"Unknown\"]\n",
    "taxi.count()"
   ]
  },
  {
   "cell_type": "markdown",
   "metadata": {
    "application/vnd.databricks.v1+cell": {
     "inputWidgets": {},
     "nuid": "14860f47-5650-48c8-b679-46eba635547f",
     "showTitle": false,
     "title": ""
    }
   },
   "source": [
    "We have removed some attributes such as **'VendorID', 'RatecodeID', 'store_and_fwd_flag','DOLocationID', 'fare_amount', 'extra', 'mta_tax', 'tip_amount', 'tolls_amount', 'improvement_surcharge', 'congestion_surcharge'** \\- and work with the remaining data. The Zones data has been joined to our dataset"
   ]
  },
  {
   "cell_type": "markdown",
   "metadata": {
    "application/vnd.databricks.v1+cell": {
     "inputWidgets": {},
     "nuid": "aee5396a-fbfd-48ac-b079-34fd8fdf15b5",
     "showTitle": false,
     "title": ""
    }
   },
   "source": [
    "<h1> Data Preprocessing and Cleaning"
   ]
  },
  {
   "cell_type": "markdown",
   "metadata": {
    "application/vnd.databricks.v1+cell": {
     "inputWidgets": {},
     "nuid": "850d2da2-395c-4725-9bb9-f73d8d30aa80",
     "showTitle": false,
     "title": ""
    }
   },
   "source": [
    "In this section, we will clean our data and remove all outliers. We can also create new attributes that may help in the final output."
   ]
  },
  {
   "cell_type": "code",
   "execution_count": 0,
   "metadata": {
    "application/vnd.databricks.v1+cell": {
     "inputWidgets": {},
     "nuid": "8f077ddf-e431-468c-8f45-526142ed9870",
     "showTitle": false,
     "title": ""
    }
   },
   "outputs": [
    {
     "data": {
      "text/html": [
       "<style scoped>\n",
       "  .ansiout {\n",
       "    display: block;\n",
       "    unicode-bidi: embed;\n",
       "    white-space: pre-wrap;\n",
       "    word-wrap: break-word;\n",
       "    word-break: break-all;\n",
       "    font-family: \"Source Code Pro\", \"Menlo\", monospace;;\n",
       "    font-size: 13px;\n",
       "    color: #555;\n",
       "    margin-left: 4px;\n",
       "    line-height: 19px;\n",
       "  }\n",
       "</style>\n",
       "<div class=\"ansiout\">+--------------------+---------------------+---------------+-------------+------------+---------+\n",
       "tpep_pickup_datetime|tpep_dropoff_datetime|passenger_count|trip_distance|total_amount| Division|\n",
       "+--------------------+---------------------+---------------+-------------+------------+---------+\n",
       " 2019-01-01 00:46:40|  2019-01-01 00:53:20|              1|         1.50|        9.95|Manhattan|\n",
       " 2019-01-01 00:59:47|  2019-01-01 01:18:59|              1|         2.60|        16.3|Manhattan|\n",
       " 2019-01-01 00:21:28|  2019-01-01 00:28:37|              1|         1.30|        9.05|Manhattan|\n",
       " 2019-01-01 00:32:01|  2019-01-01 00:45:39|              1|         3.70|        18.5|Manhattan|\n",
       " 2019-01-01 00:57:32|  2019-01-01 01:09:32|              2|         2.10|          13|Manhattan|\n",
       " 2019-01-01 00:24:04|  2019-01-01 00:47:06|              2|         2.80|       19.55|Manhattan|\n",
       " 2019-01-01 00:21:59|  2019-01-01 00:28:24|              1|          .70|         8.5|Manhattan|\n",
       " 2019-01-01 00:45:21|  2019-01-01 01:31:05|              1|         8.70|       42.95|Manhattan|\n",
       " 2019-01-01 00:43:19|  2019-01-01 01:07:42|              1|         6.30|        28.5|Manhattan|\n",
       " 2019-01-01 00:58:24|  2019-01-01 01:15:18|              1|         2.70|        15.3|Manhattan|\n",
       "+--------------------+---------------------+---------------+-------------+------------+---------+\n",
       "only showing top 10 rows\n",
       "\n",
       "</div>"
      ]
     },
     "metadata": {
      "application/vnd.databricks.v1+output": {
       "addedWidgets": {},
       "arguments": {},
       "data": "<div class=\"ansiout\">+--------------------+---------------------+---------------+-------------+------------+---------+\n|tpep_pickup_datetime|tpep_dropoff_datetime|passenger_count|trip_distance|total_amount| Division|\n+--------------------+---------------------+---------------+-------------+------------+---------+\n| 2019-01-01 00:46:40|  2019-01-01 00:53:20|              1|         1.50|        9.95|Manhattan|\n| 2019-01-01 00:59:47|  2019-01-01 01:18:59|              1|         2.60|        16.3|Manhattan|\n| 2019-01-01 00:21:28|  2019-01-01 00:28:37|              1|         1.30|        9.05|Manhattan|\n| 2019-01-01 00:32:01|  2019-01-01 00:45:39|              1|         3.70|        18.5|Manhattan|\n| 2019-01-01 00:57:32|  2019-01-01 01:09:32|              2|         2.10|          13|Manhattan|\n| 2019-01-01 00:24:04|  2019-01-01 00:47:06|              2|         2.80|       19.55|Manhattan|\n| 2019-01-01 00:21:59|  2019-01-01 00:28:24|              1|          .70|         8.5|Manhattan|\n| 2019-01-01 00:45:21|  2019-01-01 01:31:05|              1|         8.70|       42.95|Manhattan|\n| 2019-01-01 00:43:19|  2019-01-01 01:07:42|              1|         6.30|        28.5|Manhattan|\n| 2019-01-01 00:58:24|  2019-01-01 01:15:18|              1|         2.70|        15.3|Manhattan|\n+--------------------+---------------------+---------------+-------------+------------+---------+\nonly showing top 10 rows\n\n</div>",
       "datasetInfos": [],
       "metadata": {},
       "removedWidgets": [],
       "type": "html"
      }
     },
     "output_type": "display_data"
    }
   ],
   "source": [
    "taxi.show(10)"
   ]
  },
  {
   "cell_type": "markdown",
   "metadata": {
    "application/vnd.databricks.v1+cell": {
     "inputWidgets": {},
     "nuid": "733972a2-bed9-4c8d-ba75-4e82658d7c0a",
     "showTitle": false,
     "title": ""
    }
   },
   "source": [
    "<h4> Construct New features such as Trip Duration (and Speed?)"
   ]
  },
  {
   "cell_type": "markdown",
   "metadata": {
    "application/vnd.databricks.v1+cell": {
     "inputWidgets": {},
     "nuid": "84ee096a-cf2d-41fd-93f9-8a9544c2b339",
     "showTitle": false,
     "title": ""
    }
   },
   "source": [
    "- Since we have the Trip start & end time, we can compute the Duration by (Dropoff Time - Pickup Time)/60 --- To get the duration in minutes. \n",
    "- Given the Distance travelled, we can also compute the Speed of the journey (Speed = (Distance Travelled/Duration)\\*60) ---- Speed in miles/hour\n",
    "\n",
    "\n",
    "For further computation, we can convert the pickup and drop datetime into UNIX timestamps, and drop the columns that are not required in our case"
   ]
  },
  {
   "cell_type": "code",
   "execution_count": 0,
   "metadata": {
    "application/vnd.databricks.v1+cell": {
     "inputWidgets": {},
     "nuid": "1a865927-3783-4b0b-ae0c-af3bff0cdb68",
     "showTitle": false,
     "title": ""
    }
   },
   "outputs": [
    {
     "data": {
      "text/html": [
       "<style scoped>\n",
       "  .ansiout {\n",
       "    display: block;\n",
       "    unicode-bidi: embed;\n",
       "    white-space: pre-wrap;\n",
       "    word-wrap: break-word;\n",
       "    word-break: break-all;\n",
       "    font-family: \"Source Code Pro\", \"Menlo\", monospace;;\n",
       "    font-size: 13px;\n",
       "    color: #555;\n",
       "    margin-left: 4px;\n",
       "    line-height: 19px;\n",
       "  }\n",
       "</style>\n",
       "<div class=\"ansiout\">+--------------------+---------------------+---------------+-------------+------------+---------+-----------+------------+\n",
       "tpep_pickup_datetime|tpep_dropoff_datetime|passenger_count|trip_distance|total_amount| Division|Pickup_Unix|Dropoff_Unix|\n",
       "+--------------------+---------------------+---------------+-------------+------------+---------+-----------+------------+\n",
       " 2019-01-01 00:46:40|  2019-01-01 00:53:20|              1|         1.50|        9.95|Manhattan| 1546303600|  1546304000|\n",
       " 2019-01-01 00:59:47|  2019-01-01 01:18:59|              1|         2.60|        16.3|Manhattan| 1546304387|  1546305539|\n",
       "+--------------------+---------------------+---------------+-------------+------------+---------+-----------+------------+\n",
       "only showing top 2 rows\n",
       "\n",
       "</div>"
      ]
     },
     "metadata": {
      "application/vnd.databricks.v1+output": {
       "addedWidgets": {},
       "arguments": {},
       "data": "<div class=\"ansiout\">+--------------------+---------------------+---------------+-------------+------------+---------+-----------+------------+\n|tpep_pickup_datetime|tpep_dropoff_datetime|passenger_count|trip_distance|total_amount| Division|Pickup_Unix|Dropoff_Unix|\n+--------------------+---------------------+---------------+-------------+------------+---------+-----------+------------+\n| 2019-01-01 00:46:40|  2019-01-01 00:53:20|              1|         1.50|        9.95|Manhattan| 1546303600|  1546304000|\n| 2019-01-01 00:59:47|  2019-01-01 01:18:59|              1|         2.60|        16.3|Manhattan| 1546304387|  1546305539|\n+--------------------+---------------------+---------------+-------------+------------+---------+-----------+------------+\nonly showing top 2 rows\n\n</div>",
       "datasetInfos": [],
       "metadata": {},
       "removedWidgets": [],
       "type": "html"
      }
     },
     "output_type": "display_data"
    }
   ],
   "source": [
    "#Convert to Unix timestamp and drop columns that aren't required\n",
    "taxi_unix = taxi.select(\"*\",\n",
    "                        F.unix_timestamp(taxi.tpep_pickup_datetime).alias('Pickup_Unix'),\n",
    "                        F.unix_timestamp(taxi.tpep_dropoff_datetime).alias('Dropoff_Unix'))\n",
    "taxi_unix.show(2)"
   ]
  },
  {
   "cell_type": "code",
   "execution_count": 0,
   "metadata": {
    "application/vnd.databricks.v1+cell": {
     "inputWidgets": {},
     "nuid": "055fb5c5-644f-475c-aa70-232a4952ad44",
     "showTitle": false,
     "title": ""
    }
   },
   "outputs": [
    {
     "data": {
      "text/html": [
       "<style scoped>\n",
       "  .ansiout {\n",
       "    display: block;\n",
       "    unicode-bidi: embed;\n",
       "    white-space: pre-wrap;\n",
       "    word-wrap: break-word;\n",
       "    word-break: break-all;\n",
       "    font-family: \"Source Code Pro\", \"Menlo\", monospace;;\n",
       "    font-size: 13px;\n",
       "    color: #555;\n",
       "    margin-left: 4px;\n",
       "    line-height: 19px;\n",
       "  }\n",
       "</style>\n",
       "<div class=\"ansiout\">+---------------+-------------+------------+---------+-----------+--------+-----+\n",
       "passenger_count|trip_distance|total_amount| Division|Pickup_Unix|Duration|Speed|\n",
       "+---------------+-------------+------------+---------+-----------+--------+-----+\n",
       "              1|         1.50|        9.95|Manhattan| 1546303600|    6.67| 13.5|\n",
       "              1|         2.60|        16.3|Manhattan| 1546304387|    19.2| 8.13|\n",
       "              1|         1.30|        9.05|Manhattan| 1546302088|    7.15|10.91|\n",
       "              1|         3.70|        18.5|Manhattan| 1546302721|   13.63|16.28|\n",
       "              2|         2.10|          13|Manhattan| 1546304252|    12.0| 10.5|\n",
       "+---------------+-------------+------------+---------+-----------+--------+-----+\n",
       "only showing top 5 rows\n",
       "\n",
       "</div>"
      ]
     },
     "metadata": {
      "application/vnd.databricks.v1+output": {
       "addedWidgets": {},
       "arguments": {},
       "data": "<div class=\"ansiout\">+---------------+-------------+------------+---------+-----------+--------+-----+\n|passenger_count|trip_distance|total_amount| Division|Pickup_Unix|Duration|Speed|\n+---------------+-------------+------------+---------+-----------+--------+-----+\n|              1|         1.50|        9.95|Manhattan| 1546303600|    6.67| 13.5|\n|              1|         2.60|        16.3|Manhattan| 1546304387|    19.2| 8.13|\n|              1|         1.30|        9.05|Manhattan| 1546302088|    7.15|10.91|\n|              1|         3.70|        18.5|Manhattan| 1546302721|   13.63|16.28|\n|              2|         2.10|          13|Manhattan| 1546304252|    12.0| 10.5|\n+---------------+-------------+------------+---------+-----------+--------+-----+\nonly showing top 5 rows\n\n</div>",
       "datasetInfos": [],
       "metadata": {},
       "removedWidgets": [],
       "type": "html"
      }
     },
     "output_type": "display_data"
    }
   ],
   "source": [
    "# Create the Duration and Speed Column\n",
    "taxi_ds = taxi_unix.withColumn(\"Duration\",\n",
    "                               F.round((taxi_unix.Dropoff_Unix-taxi_unix.Pickup_Unix)/60,2))\\\n",
    "                   .withColumn(\"Speed\",\n",
    "                               F.round(60*(taxi_unix.trip_distance/((taxi_unix.Dropoff_Unix-taxi_unix.Pickup_Unix)/60)),2))\\\n",
    "                   .drop(\"Dropoff_Unix\",\"tpep_pickup_datetime\",\"tpep_dropoff_datetime\")\n",
    "taxi_ds.show(5)"
   ]
  },
  {
   "cell_type": "code",
   "execution_count": 0,
   "metadata": {
    "application/vnd.databricks.v1+cell": {
     "inputWidgets": {},
     "nuid": "823c97a6-94d0-4aba-b6ac-a4393ee4d7df",
     "showTitle": false,
     "title": ""
    }
   },
   "outputs": [
    {
     "data": {
      "text/html": [
       "<style scoped>\n",
       "  .ansiout {\n",
       "    display: block;\n",
       "    unicode-bidi: embed;\n",
       "    white-space: pre-wrap;\n",
       "    word-wrap: break-word;\n",
       "    word-break: break-all;\n",
       "    font-family: \"Source Code Pro\", \"Menlo\", monospace;;\n",
       "    font-size: 13px;\n",
       "    color: #555;\n",
       "    margin-left: 4px;\n",
       "    line-height: 19px;\n",
       "  }\n",
       "</style>\n",
       "<div class=\"ansiout\">+---------------+-------------+------------+---------+-----------+--------+-----+\n",
       "passenger_count|trip_distance|total_amount| Division|Pickup_Unix|Duration|Speed|\n",
       "+---------------+-------------+------------+---------+-----------+--------+-----+\n",
       "              1|         1.50|        9.95|Manhattan| 1546303600|    6.67| 13.5|\n",
       "              1|         2.60|        16.3|Manhattan| 1546304387|    19.2| 8.13|\n",
       "              1|         1.30|        9.05|Manhattan| 1546302088|    7.15|10.91|\n",
       "              1|         3.70|        18.5|Manhattan| 1546302721|   13.63|16.28|\n",
       "              2|         2.10|          13|Manhattan| 1546304252|    12.0| 10.5|\n",
       "              2|         2.80|       19.55|Manhattan| 1546302244|   23.03| 7.29|\n",
       "              1|          .70|         8.5|Manhattan| 1546302119|    6.42| 6.55|\n",
       "              1|         8.70|       42.95|Manhattan| 1546303521|   45.73|11.41|\n",
       "              1|         6.30|        28.5|Manhattan| 1546303399|   24.38| 15.5|\n",
       "              1|         2.70|        15.3|Manhattan| 1546304304|    16.9| 9.59|\n",
       "+---------------+-------------+------------+---------+-----------+--------+-----+\n",
       "only showing top 10 rows\n",
       "\n",
       "</div>"
      ]
     },
     "metadata": {
      "application/vnd.databricks.v1+output": {
       "addedWidgets": {},
       "arguments": {},
       "data": "<div class=\"ansiout\">+---------------+-------------+------------+---------+-----------+--------+-----+\n|passenger_count|trip_distance|total_amount| Division|Pickup_Unix|Duration|Speed|\n+---------------+-------------+------------+---------+-----------+--------+-----+\n|              1|         1.50|        9.95|Manhattan| 1546303600|    6.67| 13.5|\n|              1|         2.60|        16.3|Manhattan| 1546304387|    19.2| 8.13|\n|              1|         1.30|        9.05|Manhattan| 1546302088|    7.15|10.91|\n|              1|         3.70|        18.5|Manhattan| 1546302721|   13.63|16.28|\n|              2|         2.10|          13|Manhattan| 1546304252|    12.0| 10.5|\n|              2|         2.80|       19.55|Manhattan| 1546302244|   23.03| 7.29|\n|              1|          .70|         8.5|Manhattan| 1546302119|    6.42| 6.55|\n|              1|         8.70|       42.95|Manhattan| 1546303521|   45.73|11.41|\n|              1|         6.30|        28.5|Manhattan| 1546303399|   24.38| 15.5|\n|              1|         2.70|        15.3|Manhattan| 1546304304|    16.9| 9.59|\n+---------------+-------------+------------+---------+-----------+--------+-----+\nonly showing top 10 rows\n\n</div>",
       "datasetInfos": [],
       "metadata": {},
       "removedWidgets": [],
       "type": "html"
      }
     },
     "output_type": "display_data"
    }
   ],
   "source": [
    "taxi_ds.show(10)"
   ]
  },
  {
   "cell_type": "code",
   "execution_count": 0,
   "metadata": {
    "application/vnd.databricks.v1+cell": {
     "inputWidgets": {},
     "nuid": "4fc88daf-80cc-441b-9c5a-6ef0b06637ed",
     "showTitle": false,
     "title": ""
    }
   },
   "outputs": [
    {
     "data": {
      "text/html": [
       "<style scoped>\n",
       "  .ansiout {\n",
       "    display: block;\n",
       "    unicode-bidi: embed;\n",
       "    white-space: pre-wrap;\n",
       "    word-wrap: break-word;\n",
       "    word-break: break-all;\n",
       "    font-family: \"Source Code Pro\", \"Menlo\", monospace;;\n",
       "    font-size: 13px;\n",
       "    color: #555;\n",
       "    margin-left: 4px;\n",
       "    line-height: 19px;\n",
       "  }\n",
       "</style>\n",
       "<div class=\"ansiout\">Percentiles for passenger_count\n",
       "+---------+---+---+---+---+---+---+---+---+-----+-----+----+\n",
       " Division|25%|50%|75%|90%|95%|96%|98%|99%|99.5%|99.9%|100%|\n",
       "+---------+---+---+---+---+---+---+---+---+-----+-----+----+\n",
       "   Queens|1.0|1.0|2.0|3.0|5.0|5.0|6.0|6.0|  6.0|  6.0| 9.0|\n",
       "  Unknown|1.0|1.0|1.0|2.0|4.0|4.0|5.0|6.0|  6.0|  6.0| 9.0|\n",
       " Brooklyn|1.0|1.0|2.0|3.0|5.0|5.0|6.0|6.0|  6.0|  6.0| 7.0|\n",
       "Manhattan|1.0|1.0|2.0|3.0|5.0|5.0|6.0|6.0|  6.0|  6.0| 9.0|\n",
       "    Bronx|1.0|1.0|1.0|2.0|5.0|5.0|6.0|6.0|  6.0|  6.0| 6.0|\n",
       "+---------+---+---+---+---+---+---+---+---+-----+-----+----+\n",
       "\n",
       "Percentiles for trip_distance\n",
       "+---------+----+-----+-----+-----+------------------+-----+------------------+------------------+-----------------+-----------------+------+\n",
       " Division| 25%|  50%|  75%|  90%|               95%|  96%|               98%|               99%|            99.5%|            99.9%|  100%|\n",
       "+---------+----+-----+-----+-----+------------------+-----+------------------+------------------+-----------------+-----------------+------+\n",
       "   Queens|7.23|10.51|17.09| 19.2|              20.8|21.22|             22.92|              26.6|29.33905000000028|             42.3|237.17|\n",
       "  Unknown| 0.7| 1.34|  2.5|  5.5|               9.6| 10.8|             16.82|              18.7|             20.6| 28.9956799999997|214.01|\n",
       " Brooklyn|1.26|  2.9|  5.9| 10.3|             14.05| 15.2|              18.5|              21.2|            23.71|            28.67|142.88|\n",
       "Manhattan| 0.9|  1.5| 2.55|  4.6|              6.87| 7.79|             10.72|             15.63|            17.71|            21.45| 831.8|\n",
       "    Bronx|1.68| 4.66| 10.3|15.89|19.088499999999986| 19.9|22.135400000000008|25.187699999999968|            27.59|35.53677999999985|209.38|\n",
       "+---------+----+-----+-----+-----+------------------+-----+------------------+------------------+-----------------+-----------------+------+\n",
       "\n",
       "Percentiles for total_amount\n",
       "+---------+-----+------+-----+------------------+----------------+-----+-----------------+-----+-----------------+------------------+----------+\n",
       " Division|  25%|   50%|  75%|               90%|             95%|  96%|              98%|  99%|            99.5%|             99.9%|      100%|\n",
       "+---------+-----+------+-----+------------------+----------------+-----+-----------------+-----+-----------------+------------------+----------+\n",
       "   Queens|30.36|46.175| 61.3|              73.2|           75.67|76.32|            80.17|93.32|           132.67|213.32543000000294| 671124.94|\n",
       "  Unknown|  8.3| 11.76| 18.3|             39.95|65.6504999999999|70.27|86.12519999999901|126.3|            170.8|284.30641999999995|   90000.0|\n",
       " Brooklyn| 9.36| 15.96| 26.3|              39.8|           50.64|53.78|            63.36|71.32|             78.3|            106.56|    3345.3|\n",
       "Manhattan| 9.95| 12.96|17.76|             24.96|           32.25|35.31|            48.06|63.06|            73.26|             98.67|1084772.17|\n",
       "    Bronx| 10.8|  19.8|37.63|54.484000000000094|           63.56|66.34|            75.56|84.56|96.78390000000029|165.42777999999672|     680.3|\n",
       "+---------+-----+------+-----+------------------+----------------+-----+-----------------+-----+-----------------+------------------+----------+\n",
       "\n",
       "Percentiles for Duration\n",
       "+---------+-----+-----+-----+-----------------+------------------+-----------------+------------------+----------------+------------------+------------------+--------+\n",
       " Division|  25%|  50%|  75%|              90%|               95%|              96%|               98%|             99%|             99.5%|             99.9%|    100%|\n",
       "+---------+-----+-----+-----+-----------------+------------------+-----------------+------------------+----------------+------------------+------------------+--------+\n",
       "   Queens|18.62|28.92|40.08|             51.8|             60.03|            62.68|              71.4|           82.52|133.87435000000755| 1419.805430000003| 8590.33|\n",
       "  Unknown| 4.83|  9.2|15.67|            24.38|              31.4|            33.97|             42.33|           51.67| 63.26209999999963|        1402.98642|  7190.9|\n",
       " Brooklyn| 7.42|14.25|24.47|            37.63|47.116999999999535|            50.12|59.256799999999345|           68.57|             79.58|1425.0975499999972| 1439.98|\n",
       "Manhattan|  6.2|10.15|16.05|            23.55|             29.37|            31.35|             38.35|           47.63|              61.5|           1426.45|43648.02|\n",
       "    Bronx| 9.63|19.13|32.97|48.17700000000004|58.696999999999974|62.17080000000002| 72.22540000000001|82.3230999999999| 94.77080000000016|1419.9104499999992| 1439.42|\n",
       "+---------+-----+-----+-----+-----------------+------------------+-----------------+------------------+----------------+------------------+------------------+--------+\n",
       "\n",
       "Percentiles for Speed\n",
       "+---------+-----+-----+-----+-----+-----+-----------------+-----------------+------------------+------------------+------------------+--------+\n",
       " Division|  25%|  50%|  75%|  90%|  95%|              96%|              98%|               99%|             99.5%|             99.9%|    100%|\n",
       "+---------+-----+-----+-----+-----+-----+-----------------+-----------------+------------------+------------------+------------------+--------+\n",
       "   Queens|15.95|21.83|28.44|35.09|39.11|            40.24|            43.44|46.604099999999164|51.242050000000745|1552.9944299992778|105120.0|\n",
       "  Unknown| 6.71| 9.39|13.05|19.11|25.25|             27.5|             36.0|              72.0|             414.0|3325.0141999999883| 63828.0|\n",
       " Brooklyn| 9.32|12.14|16.27|22.09|26.55|            28.02|             32.4|             36.66|             42.44|1020.3777400000149| 49680.0|\n",
       "Manhattan| 7.29| 9.63|12.74|16.92|20.45|            21.63|            25.37|             29.24|             33.18|             42.78| 80316.0|\n",
       "    Bronx| 9.65|14.05| 20.7|27.58|31.93|33.20599999999999|37.11299999999996| 41.95650000000002|              52.2|1239.5652500010265| 25020.0|\n",
       "+---------+-----+-----+-----+-----+-----+-----------------+-----------------+------------------+------------------+------------------+--------+\n",
       "\n",
       "</div>"
      ]
     },
     "metadata": {
      "application/vnd.databricks.v1+output": {
       "addedWidgets": {},
       "arguments": {},
       "data": "<div class=\"ansiout\">Percentiles for passenger_count\n+---------+---+---+---+---+---+---+---+---+-----+-----+----+\n| Division|25%|50%|75%|90%|95%|96%|98%|99%|99.5%|99.9%|100%|\n+---------+---+---+---+---+---+---+---+---+-----+-----+----+\n|   Queens|1.0|1.0|2.0|3.0|5.0|5.0|6.0|6.0|  6.0|  6.0| 9.0|\n|  Unknown|1.0|1.0|1.0|2.0|4.0|4.0|5.0|6.0|  6.0|  6.0| 9.0|\n| Brooklyn|1.0|1.0|2.0|3.0|5.0|5.0|6.0|6.0|  6.0|  6.0| 7.0|\n|Manhattan|1.0|1.0|2.0|3.0|5.0|5.0|6.0|6.0|  6.0|  6.0| 9.0|\n|    Bronx|1.0|1.0|1.0|2.0|5.0|5.0|6.0|6.0|  6.0|  6.0| 6.0|\n+---------+---+---+---+---+---+---+---+---+-----+-----+----+\n\nPercentiles for trip_distance\n+---------+----+-----+-----+-----+------------------+-----+------------------+------------------+-----------------+-----------------+------+\n| Division| 25%|  50%|  75%|  90%|               95%|  96%|               98%|               99%|            99.5%|            99.9%|  100%|\n+---------+----+-----+-----+-----+------------------+-----+------------------+------------------+-----------------+-----------------+------+\n|   Queens|7.23|10.51|17.09| 19.2|              20.8|21.22|             22.92|              26.6|29.33905000000028|             42.3|237.17|\n|  Unknown| 0.7| 1.34|  2.5|  5.5|               9.6| 10.8|             16.82|              18.7|             20.6| 28.9956799999997|214.01|\n| Brooklyn|1.26|  2.9|  5.9| 10.3|             14.05| 15.2|              18.5|              21.2|            23.71|            28.67|142.88|\n|Manhattan| 0.9|  1.5| 2.55|  4.6|              6.87| 7.79|             10.72|             15.63|            17.71|            21.45| 831.8|\n|    Bronx|1.68| 4.66| 10.3|15.89|19.088499999999986| 19.9|22.135400000000008|25.187699999999968|            27.59|35.53677999999985|209.38|\n+---------+----+-----+-----+-----+------------------+-----+------------------+------------------+-----------------+-----------------+------+\n\nPercentiles for total_amount\n+---------+-----+------+-----+------------------+----------------+-----+-----------------+-----+-----------------+------------------+----------+\n| Division|  25%|   50%|  75%|               90%|             95%|  96%|              98%|  99%|            99.5%|             99.9%|      100%|\n+---------+-----+------+-----+------------------+----------------+-----+-----------------+-----+-----------------+------------------+----------+\n|   Queens|30.36|46.175| 61.3|              73.2|           75.67|76.32|            80.17|93.32|           132.67|213.32543000000294| 671124.94|\n|  Unknown|  8.3| 11.76| 18.3|             39.95|65.6504999999999|70.27|86.12519999999901|126.3|            170.8|284.30641999999995|   90000.0|\n| Brooklyn| 9.36| 15.96| 26.3|              39.8|           50.64|53.78|            63.36|71.32|             78.3|            106.56|    3345.3|\n|Manhattan| 9.95| 12.96|17.76|             24.96|           32.25|35.31|            48.06|63.06|            73.26|             98.67|1084772.17|\n|    Bronx| 10.8|  19.8|37.63|54.484000000000094|           63.56|66.34|            75.56|84.56|96.78390000000029|165.42777999999672|     680.3|\n+---------+-----+------+-----+------------------+----------------+-----+-----------------+-----+-----------------+------------------+----------+\n\nPercentiles for Duration\n+---------+-----+-----+-----+-----------------+------------------+-----------------+------------------+----------------+------------------+------------------+--------+\n| Division|  25%|  50%|  75%|              90%|               95%|              96%|               98%|             99%|             99.5%|             99.9%|    100%|\n+---------+-----+-----+-----+-----------------+------------------+-----------------+------------------+----------------+------------------+------------------+--------+\n|   Queens|18.62|28.92|40.08|             51.8|             60.03|            62.68|              71.4|           82.52|133.87435000000755| 1419.805430000003| 8590.33|\n|  Unknown| 4.83|  9.2|15.67|            24.38|              31.4|            33.97|             42.33|           51.67| 63.26209999999963|        1402.98642|  7190.9|\n| Brooklyn| 7.42|14.25|24.47|            37.63|47.116999999999535|            50.12|59.256799999999345|           68.57|             79.58|1425.0975499999972| 1439.98|\n|Manhattan|  6.2|10.15|16.05|            23.55|             29.37|            31.35|             38.35|           47.63|              61.5|           1426.45|43648.02|\n|    Bronx| 9.63|19.13|32.97|48.17700000000004|58.696999999999974|62.17080000000002| 72.22540000000001|82.3230999999999| 94.77080000000016|1419.9104499999992| 1439.42|\n+---------+-----+-----+-----+-----------------+------------------+-----------------+------------------+----------------+------------------+------------------+--------+\n\nPercentiles for Speed\n+---------+-----+-----+-----+-----+-----+-----------------+-----------------+------------------+------------------+------------------+--------+\n| Division|  25%|  50%|  75%|  90%|  95%|              96%|              98%|               99%|             99.5%|             99.9%|    100%|\n+---------+-----+-----+-----+-----+-----+-----------------+-----------------+------------------+------------------+------------------+--------+\n|   Queens|15.95|21.83|28.44|35.09|39.11|            40.24|            43.44|46.604099999999164|51.242050000000745|1552.9944299992778|105120.0|\n|  Unknown| 6.71| 9.39|13.05|19.11|25.25|             27.5|             36.0|              72.0|             414.0|3325.0141999999883| 63828.0|\n| Brooklyn| 9.32|12.14|16.27|22.09|26.55|            28.02|             32.4|             36.66|             42.44|1020.3777400000149| 49680.0|\n|Manhattan| 7.29| 9.63|12.74|16.92|20.45|            21.63|            25.37|             29.24|             33.18|             42.78| 80316.0|\n|    Bronx| 9.65|14.05| 20.7|27.58|31.93|33.20599999999999|37.11299999999996| 41.95650000000002|              52.2|1239.5652500010265| 25020.0|\n+---------+-----+-----+-----+-----+-----+-----------------+-----------------+------------------+------------------+------------------+--------+\n\n</div>",
       "datasetInfos": [],
       "metadata": {},
       "removedWidgets": [],
       "type": "html"
      }
     },
     "output_type": "display_data"
    }
   ],
   "source": [
    "def calculate_percentile(df):\n",
    "  \"\"\"\n",
    "  Function to calculate percentiles by division\n",
    "  https://stackoverflow.com/questions/57424211/how-compute-the-percentile-in-pyspark-dataframe-for-each-key\n",
    "  \"\"\"\n",
    "  for feature in df.columns:\n",
    "    if feature != 'Division' and feature != 'Pickup_Unix':\n",
    "      print(\"Percentiles for {}\".format(feature))\n",
    "      df.groupby('Division').agg(F.expr('percentile('+feature+', array(0.25))')[0].alias('25%'),\n",
    "                                 F.expr('percentile('+feature+', array(0.50))')[0].alias('50%'),\n",
    "                                 F.expr('percentile('+feature+', array(0.75))')[0].alias('75%'),\n",
    "                                 F.expr('percentile('+feature+', array(0.90))')[0].alias('90%'),\n",
    "                                 F.expr('percentile('+feature+', array(0.95))')[0].alias('95%'),\n",
    "                                 F.expr('percentile('+feature+', array(0.96))')[0].alias('96%'),\n",
    "                                 F.expr('percentile('+feature+', array(0.98))')[0].alias('98%'),\n",
    "                                 F.expr('percentile('+feature+', array(0.99))')[0].alias('99%'),\n",
    "                                 F.expr('percentile('+feature+', array(0.995))')[0].alias('99.5%'),\n",
    "                                 F.expr('percentile('+feature+', array(0.999))')[0].alias('99.9%'),\n",
    "                                 F.expr('percentile('+feature+', array(1.00))')[0].alias('100%'))\\\n",
    "         .show()\n",
    "      \n",
    "calculate_percentile(taxi_ds)"
   ]
  },
  {
   "cell_type": "markdown",
   "metadata": {
    "application/vnd.databricks.v1+cell": {
     "inputWidgets": {},
     "nuid": "b7b545a7-4540-44a3-a42a-098ba89427d8",
     "showTitle": false,
     "title": ""
    }
   },
   "source": [
    "<h4> Trip Duration"
   ]
  },
  {
   "cell_type": "markdown",
   "metadata": {
    "application/vnd.databricks.v1+cell": {
     "inputWidgets": {},
     "nuid": "7aab4500-4c7e-4402-a97e-061d7af8461d",
     "showTitle": false,
     "title": ""
    }
   },
   "source": [
    "**Observation:**\n",
    "- Values seem fine until 90th percentile.\n",
    "- 100th Percentile value is very large for a trip duration. \n",
    "- Values until 99th percentile seem okay.\n",
    "- The outlier is just between 99th and 100th percentile.\n",
    "\n",
    "We can look further into this if needed. \n",
    "But from the NYC Taxi & Limousine Commission regulations, drivers must limit themselves to 12 working hours/day (https://abc7ny.com/cab-drivers-taxi-hours-new-york-city/1353642/). \n",
    "\n",
    "So we can consider the thresholds to be \n",
    "- **minimum : 1 minute** \n",
    "- **maximum : 720 minutes** (12hrs\\*60min)"
   ]
  },
  {
   "cell_type": "markdown",
   "metadata": {
    "application/vnd.databricks.v1+cell": {
     "inputWidgets": {},
     "nuid": "16677383-3272-4360-b8c2-52134f9b531f",
     "showTitle": false,
     "title": ""
    }
   },
   "source": [
    "**Observation:**"
   ]
  },
  {
   "cell_type": "code",
   "execution_count": 0,
   "metadata": {
    "application/vnd.databricks.v1+cell": {
     "inputWidgets": {},
     "nuid": "2cfa17bd-99af-4dd7-a3a8-2453d2326a0f",
     "showTitle": false,
     "title": ""
    }
   },
   "outputs": [
    {
     "data": {
      "text/html": [
       "<style scoped>\n",
       "  .ansiout {\n",
       "    display: block;\n",
       "    unicode-bidi: embed;\n",
       "    white-space: pre-wrap;\n",
       "    word-wrap: break-word;\n",
       "    word-break: break-all;\n",
       "    font-family: \"Source Code Pro\", \"Menlo\", monospace;;\n",
       "    font-size: 13px;\n",
       "    color: #555;\n",
       "    margin-left: 4px;\n",
       "    line-height: 19px;\n",
       "  }\n",
       "</style>\n",
       "<div class=\"ansiout\"></div>"
      ]
     },
     "metadata": {
      "application/vnd.databricks.v1+output": {
       "addedWidgets": {},
       "arguments": {},
       "data": "<div class=\"ansiout\"></div>",
       "datasetInfos": [],
       "metadata": {},
       "removedWidgets": [],
       "type": "html"
      }
     },
     "output_type": "display_data"
    }
   ],
   "source": [
    "# Filtering based on 1 =< Duration =< 720\n",
    "filtered_duration_df = taxi_ds.where((taxi_ds.Duration>=1) & (taxi_ds.Duration<=720))"
   ]
  },
  {
   "cell_type": "markdown",
   "metadata": {
    "application/vnd.databricks.v1+cell": {
     "inputWidgets": {},
     "nuid": "c48b0195-93d3-4325-851c-fd1c4ec36626",
     "showTitle": false,
     "title": ""
    }
   },
   "source": [
    "<h4> Speed"
   ]
  },
  {
   "cell_type": "markdown",
   "metadata": {
    "application/vnd.databricks.v1+cell": {
     "inputWidgets": {},
     "nuid": "f111c44c-2641-4ef8-9153-c1fa344cdcd7",
     "showTitle": false,
     "title": ""
    }
   },
   "source": [
    "**Observation:**\n",
    "- From analyzing the percentile values, we can see that 99.9% of the values are below 47.6\n",
    "\n",
    "So we can consider the thresholds to be \n",
    "- **minimum : 1 mile/hr** \n",
    "- **maximum : 72miles/hr**"
   ]
  },
  {
   "cell_type": "code",
   "execution_count": 0,
   "metadata": {
    "application/vnd.databricks.v1+cell": {
     "inputWidgets": {},
     "nuid": "79f847f3-c9bf-424d-a4c3-8d8c8cd1ed94",
     "showTitle": false,
     "title": ""
    }
   },
   "outputs": [
    {
     "data": {
      "text/html": [
       "<style scoped>\n",
       "  .ansiout {\n",
       "    display: block;\n",
       "    unicode-bidi: embed;\n",
       "    white-space: pre-wrap;\n",
       "    word-wrap: break-word;\n",
       "    word-break: break-all;\n",
       "    font-family: \"Source Code Pro\", \"Menlo\", monospace;;\n",
       "    font-size: 13px;\n",
       "    color: #555;\n",
       "    margin-left: 4px;\n",
       "    line-height: 19px;\n",
       "  }\n",
       "</style>\n",
       "<div class=\"ansiout\"></div>"
      ]
     },
     "metadata": {
      "application/vnd.databricks.v1+output": {
       "addedWidgets": {},
       "arguments": {},
       "data": "<div class=\"ansiout\"></div>",
       "datasetInfos": [],
       "metadata": {},
       "removedWidgets": [],
       "type": "html"
      }
     },
     "output_type": "display_data"
    }
   ],
   "source": [
    "# Filtering based on 1 <= Speed <= 720\n",
    "filtered_speed_df = filtered_duration_df.where((filtered_duration_df.Speed>0) & (filtered_duration_df.Speed<=72))"
   ]
  },
  {
   "cell_type": "markdown",
   "metadata": {
    "application/vnd.databricks.v1+cell": {
     "inputWidgets": {},
     "nuid": "79e6b71f-26d7-42bf-b32c-84d163f5e5e9",
     "showTitle": false,
     "title": ""
    }
   },
   "source": [
    "<h4> Trip Distance"
   ]
  },
  {
   "cell_type": "markdown",
   "metadata": {
    "application/vnd.databricks.v1+cell": {
     "inputWidgets": {},
     "nuid": "7d2ebb0c-05b1-4957-9b0c-c17a33c7139e",
     "showTitle": false,
     "title": ""
    }
   },
   "source": [
    "A good cutoff based on  distance seems to be 42 miles. We can remove the remaining data"
   ]
  },
  {
   "cell_type": "code",
   "execution_count": 0,
   "metadata": {
    "application/vnd.databricks.v1+cell": {
     "inputWidgets": {},
     "nuid": "45a00595-9fb9-4c4b-9418-85e995e0e2fe",
     "showTitle": false,
     "title": ""
    }
   },
   "outputs": [
    {
     "data": {
      "text/html": [
       "<style scoped>\n",
       "  .ansiout {\n",
       "    display: block;\n",
       "    unicode-bidi: embed;\n",
       "    white-space: pre-wrap;\n",
       "    word-wrap: break-word;\n",
       "    word-break: break-all;\n",
       "    font-family: \"Source Code Pro\", \"Menlo\", monospace;;\n",
       "    font-size: 13px;\n",
       "    color: #555;\n",
       "    margin-left: 4px;\n",
       "    line-height: 19px;\n",
       "  }\n",
       "</style>\n",
       "<div class=\"ansiout\"></div>"
      ]
     },
     "metadata": {
      "application/vnd.databricks.v1+output": {
       "addedWidgets": {},
       "arguments": {},
       "data": "<div class=\"ansiout\"></div>",
       "datasetInfos": [],
       "metadata": {},
       "removedWidgets": [],
       "type": "html"
      }
     },
     "output_type": "display_data"
    }
   ],
   "source": [
    "# Filtering based on 0 < Trip Distance <= 10\n",
    "filtered_distance_df = filtered_speed_df.where((filtered_speed_df['trip_distance']>0) & (filtered_speed_df['trip_distance']<=42))"
   ]
  },
  {
   "cell_type": "markdown",
   "metadata": {
    "application/vnd.databricks.v1+cell": {
     "inputWidgets": {},
     "nuid": "7a7e8892-094d-4689-8660-20c3f6df9fdc",
     "showTitle": false,
     "title": ""
    }
   },
   "source": [
    "<h4> Total Fare Amount"
   ]
  },
  {
   "cell_type": "markdown",
   "metadata": {
    "application/vnd.databricks.v1+cell": {
     "inputWidgets": {},
     "nuid": "764d8b73-7167-4026-8886-0cf4ac280b06",
     "showTitle": false,
     "title": ""
    }
   },
   "source": [
    "**Observation:**\n",
    "- There are some negative fare values which does not make any logical sense.\n",
    "\n",
    "The minimum fare amount according to the New York TLC is $2.50 (https://www1.nyc.gov/site/tlc/passengers/taxi-fare.page), so we can remove all datapoints with values lower than that."
   ]
  },
  {
   "cell_type": "code",
   "execution_count": 0,
   "metadata": {
    "application/vnd.databricks.v1+cell": {
     "inputWidgets": {},
     "nuid": "cccec3ba-bd11-4f33-a786-1d7b9b980edf",
     "showTitle": false,
     "title": ""
    }
   },
   "outputs": [
    {
     "data": {
      "text/html": [
       "<style scoped>\n",
       "  .ansiout {\n",
       "    display: block;\n",
       "    unicode-bidi: embed;\n",
       "    white-space: pre-wrap;\n",
       "    word-wrap: break-word;\n",
       "    word-break: break-all;\n",
       "    font-family: \"Source Code Pro\", \"Menlo\", monospace;;\n",
       "    font-size: 13px;\n",
       "    color: #555;\n",
       "    margin-left: 4px;\n",
       "    line-height: 19px;\n",
       "  }\n",
       "</style>\n",
       "<div class=\"ansiout\"></div>"
      ]
     },
     "metadata": {
      "application/vnd.databricks.v1+output": {
       "addedWidgets": {},
       "arguments": {},
       "data": "<div class=\"ansiout\"></div>",
       "datasetInfos": [],
       "metadata": {},
       "removedWidgets": [],
       "type": "html"
      }
     },
     "output_type": "display_data"
    }
   ],
   "source": [
    "# Filtering based on 0 < Fair Amount <= 10\n",
    "filtered_fare_df = filtered_distance_df.where((filtered_distance_df['total_amount']>=2.5))"
   ]
  },
  {
   "cell_type": "markdown",
   "metadata": {
    "application/vnd.databricks.v1+cell": {
     "inputWidgets": {},
     "nuid": "6d31d39d-eed0-4f85-87c6-a233a22131a8",
     "showTitle": false,
     "title": ""
    }
   },
   "source": [
    "<h4> Passenger Count"
   ]
  },
  {
   "cell_type": "markdown",
   "metadata": {
    "application/vnd.databricks.v1+cell": {
     "inputWidgets": {},
     "nuid": "79a7dcc5-6b75-44b6-8bfa-d7846df5ca3e",
     "showTitle": false,
     "title": ""
    }
   },
   "source": [
    "From general analysis, we saw that there are some NULL values in this column. We will filter out the rows with these NULL passenger_count values and with passenger count of 0"
   ]
  },
  {
   "cell_type": "code",
   "execution_count": 0,
   "metadata": {
    "application/vnd.databricks.v1+cell": {
     "inputWidgets": {},
     "nuid": "4c289d68-57da-4bdc-96d8-ff8cb40598be",
     "showTitle": false,
     "title": ""
    }
   },
   "outputs": [
    {
     "data": {
      "text/html": [
       "<style scoped>\n",
       "  .ansiout {\n",
       "    display: block;\n",
       "    unicode-bidi: embed;\n",
       "    white-space: pre-wrap;\n",
       "    word-wrap: break-word;\n",
       "    word-break: break-all;\n",
       "    font-family: \"Source Code Pro\", \"Menlo\", monospace;;\n",
       "    font-size: 13px;\n",
       "    color: #555;\n",
       "    margin-left: 4px;\n",
       "    line-height: 19px;\n",
       "  }\n",
       "</style>\n",
       "<div class=\"ansiout\">Number of NULL values in passenger_count attribute:  269393\n",
       "</div>"
      ]
     },
     "metadata": {
      "application/vnd.databricks.v1+output": {
       "addedWidgets": {},
       "arguments": {},
       "data": "<div class=\"ansiout\">Number of NULL values in passenger_count attribute:  269393\n</div>",
       "datasetInfos": [],
       "metadata": {},
       "removedWidgets": [],
       "type": "html"
      }
     },
     "output_type": "display_data"
    }
   ],
   "source": [
    "#Check number of NULL values\n",
    "print(\"Number of NULL values in passenger_count attribute: \",filtered_fare_df.filter((F.isnull(filtered_fare_df['passenger_count'])==True) | (filtered_fare_df['passenger_count']==0)).count())\n",
    "\n",
    "#Filter out rows with NULL passenger count\n",
    "filtered_pass_df = filtered_fare_df.filter((F.isnull(filtered_fare_df['passenger_count'])==False) & (filtered_fare_df['passenger_count']>0))"
   ]
  },
  {
   "cell_type": "markdown",
   "metadata": {
    "application/vnd.databricks.v1+cell": {
     "inputWidgets": {},
     "nuid": "e9ed4baf-6c91-4571-a70a-75562add41b7",
     "showTitle": false,
     "title": ""
    }
   },
   "source": [
    "###Binning"
   ]
  },
  {
   "cell_type": "code",
   "execution_count": 0,
   "metadata": {
    "application/vnd.databricks.v1+cell": {
     "inputWidgets": {},
     "nuid": "a2bf8af3-bcb2-486a-904e-634d9d16b384",
     "showTitle": false,
     "title": ""
    }
   },
   "outputs": [
    {
     "data": {
      "text/html": [
       "<style scoped>\n",
       "  .ansiout {\n",
       "    display: block;\n",
       "    unicode-bidi: embed;\n",
       "    white-space: pre-wrap;\n",
       "    word-wrap: break-word;\n",
       "    word-break: break-all;\n",
       "    font-family: \"Source Code Pro\", \"Menlo\", monospace;;\n",
       "    font-size: 13px;\n",
       "    color: #555;\n",
       "    margin-left: 4px;\n",
       "    line-height: 19px;\n",
       "  }\n",
       "</style>\n",
       "<div class=\"ansiout\">+---------+------------------+------------------+------------------+------------------+----------+\n",
       " Division|     avg(Duration)|        avg(Speed)|avg(trip_distance)| avg(total_amount)|sum(COUNT)|\n",
       "+---------+------------------+------------------+------------------+------------------+----------+\n",
       "Manhattan|16.365208706786145|12.075956466069147|3.1881049935979533|17.146140845070992|      3905|\n",
       " Brooklyn|18.468101265822785| 14.90594936708861| 4.774683544303798|21.909873417721503|        79|\n",
       "   Queens|24.794840425531905| 29.34553191489363| 12.44515957446809|44.263510638297916|       188|\n",
       "    Bronx| 22.53857142857143| 22.41857142857143| 9.822857142857144|32.942142857142855|        14|\n",
       "  Unknown|14.594057971014491|12.393188405797098|2.9457971014492754|15.993478260869558|        69|\n",
       "    Bronx|18.461666666666662|17.112222222222226|  6.16111111111111|22.578888888888898|        18|\n",
       "   Queens|23.467619047619053|24.124074074074073|10.151164021164025|37.093703703703795|       189|\n",
       "  Unknown|           15.4345|12.787000000000004|3.1650999999999994|16.494599999999988|       100|\n",
       " Brooklyn|21.235891891891892|14.703621621621615| 5.394918918918919|23.786216216216275|       185|\n",
       "Manhattan| 16.48158009444245|11.646198692335663| 3.161905194333451|17.302742462768787|      5506|\n",
       "+---------+------------------+------------------+------------------+------------------+----------+\n",
       "only showing top 10 rows\n",
       "\n",
       "</div>"
      ]
     },
     "metadata": {
      "application/vnd.databricks.v1+output": {
       "addedWidgets": {},
       "arguments": {},
       "data": "<div class=\"ansiout\">+---------+------------------+------------------+------------------+------------------+----------+\n| Division|     avg(Duration)|        avg(Speed)|avg(trip_distance)| avg(total_amount)|sum(COUNT)|\n+---------+------------------+------------------+------------------+------------------+----------+\n|Manhattan|16.365208706786145|12.075956466069147|3.1881049935979533|17.146140845070992|      3905|\n| Brooklyn|18.468101265822785| 14.90594936708861| 4.774683544303798|21.909873417721503|        79|\n|   Queens|24.794840425531905| 29.34553191489363| 12.44515957446809|44.263510638297916|       188|\n|    Bronx| 22.53857142857143| 22.41857142857143| 9.822857142857144|32.942142857142855|        14|\n|  Unknown|14.594057971014491|12.393188405797098|2.9457971014492754|15.993478260869558|        69|\n|    Bronx|18.461666666666662|17.112222222222226|  6.16111111111111|22.578888888888898|        18|\n|   Queens|23.467619047619053|24.124074074074073|10.151164021164025|37.093703703703795|       189|\n|  Unknown|           15.4345|12.787000000000004|3.1650999999999994|16.494599999999988|       100|\n| Brooklyn|21.235891891891892|14.703621621621615| 5.394918918918919|23.786216216216275|       185|\n|Manhattan| 16.48158009444245|11.646198692335663| 3.161905194333451|17.302742462768787|      5506|\n+---------+------------------+------------------+------------------+------------------+----------+\nonly showing top 10 rows\n\n</div>",
       "datasetInfos": [],
       "metadata": {},
       "removedWidgets": [],
       "type": "html"
      }
     },
     "output_type": "display_data"
    }
   ],
   "source": [
    "t = filtered_pass_df.withColumn(\"BIN\",((filtered_pass_df.Pickup_Unix - 1546300800)/1800).cast(\"int\")).withColumn(\"COUNT\",F.lit(1))\n",
    "\n",
    "\n",
    "\n",
    "taxi_binned = t.groupBy([\"BIN\",\"Division\"])\\\n",
    "                .agg(F.mean(\"Duration\"),F.mean(\"Speed\"),F.mean(\"trip_distance\"),F.mean(\"total_amount\"),F.sum(\"COUNT\"))\\\n",
    "                .sort(\"BIN\")\\\n",
    "                .drop(\"BIN\")\n",
    "taxi_binned.show(10)"
   ]
  },
  {
   "cell_type": "markdown",
   "metadata": {
    "application/vnd.databricks.v1+cell": {
     "inputWidgets": {},
     "nuid": "c9f88c63-a767-49e8-8a57-7bb39111e68c",
     "showTitle": false,
     "title": ""
    }
   },
   "source": [
    "<h3> Remove Outliers"
   ]
  },
  {
   "cell_type": "code",
   "execution_count": 0,
   "metadata": {
    "application/vnd.databricks.v1+cell": {
     "inputWidgets": {},
     "nuid": "a963c5b1-772f-4592-8041-683badcc8474",
     "showTitle": false,
     "title": ""
    }
   },
   "outputs": [
    {
     "data": {
      "text/html": [
       "<style scoped>\n",
       "  .ansiout {\n",
       "    display: block;\n",
       "    unicode-bidi: embed;\n",
       "    white-space: pre-wrap;\n",
       "    word-wrap: break-word;\n",
       "    word-break: break-all;\n",
       "    font-family: \"Source Code Pro\", \"Menlo\", monospace;;\n",
       "    font-size: 13px;\n",
       "    color: #555;\n",
       "    margin-left: 4px;\n",
       "    line-height: 19px;\n",
       "  }\n",
       "</style>\n",
       "<div class=\"ansiout\">+---------+------------------+------------------+------------------+------------------+----------+\n",
       " Division|     avg(Duration)|        avg(Speed)|avg(trip_distance)| avg(total_amount)|sum(COUNT)|\n",
       "+---------+------------------+------------------+------------------+------------------+----------+\n",
       "   Queens|23.323599999999995| 28.03980000000001|11.600000000000007| 41.24070000000006|       200|\n",
       "Manhattan|13.872607404474332| 11.39126905563253| 2.614274401108694|14.997301524451268|      5051|\n",
       "    Bronx|21.441333333333333|21.410666666666668| 9.217333333333334| 31.23266666666667|        15|\n",
       " Brooklyn|16.306881720430113|14.075161290322583| 4.152258064516129| 19.60913978494622|        93|\n",
       "  Unknown|12.685227272727277| 11.43840909090909|            2.4475|15.218295454545443|        88|\n",
       "  Unknown|13.614958677685948|12.320165289256202|2.7375206611570233|15.351900826446256|       121|\n",
       "    Bronx|18.461666666666662|17.112222222222226|  6.16111111111111|22.578888888888898|        18|\n",
       "Manhattan|14.066465578424395| 11.03940667139814| 2.618150461320077|15.181650816182676|      7045|\n",
       "   Queens| 21.41492890995261|22.801611374407575| 9.161611374407586| 34.07146919431289|       211|\n",
       " Brooklyn| 19.45227053140097| 14.14574879227053| 4.891884057971016| 22.03106280193242|       207|\n",
       "+---------+------------------+------------------+------------------+------------------+----------+\n",
       "only showing top 10 rows\n",
       "\n",
       "</div>"
      ]
     },
     "metadata": {
      "application/vnd.databricks.v1+output": {
       "addedWidgets": {},
       "arguments": {},
       "data": "<div class=\"ansiout\">+---------+------------------+------------------+------------------+------------------+----------+\n| Division|     avg(Duration)|        avg(Speed)|avg(trip_distance)| avg(total_amount)|sum(COUNT)|\n+---------+------------------+------------------+------------------+------------------+----------+\n|   Queens|23.323599999999995| 28.03980000000001|11.600000000000007| 41.24070000000006|       200|\n|Manhattan|13.872607404474332| 11.39126905563253| 2.614274401108694|14.997301524451268|      5051|\n|    Bronx|21.441333333333333|21.410666666666668| 9.217333333333334| 31.23266666666667|        15|\n| Brooklyn|16.306881720430113|14.075161290322583| 4.152258064516129| 19.60913978494622|        93|\n|  Unknown|12.685227272727277| 11.43840909090909|            2.4475|15.218295454545443|        88|\n|  Unknown|13.614958677685948|12.320165289256202|2.7375206611570233|15.351900826446256|       121|\n|    Bronx|18.461666666666662|17.112222222222226|  6.16111111111111|22.578888888888898|        18|\n|Manhattan|14.066465578424395| 11.03940667139814| 2.618150461320077|15.181650816182676|      7045|\n|   Queens| 21.41492890995261|22.801611374407575| 9.161611374407586| 34.07146919431289|       211|\n| Brooklyn| 19.45227053140097| 14.14574879227053| 4.891884057971016| 22.03106280193242|       207|\n+---------+------------------+------------------+------------------+------------------+----------+\nonly showing top 10 rows\n\n</div>",
       "datasetInfos": [],
       "metadata": {},
       "removedWidgets": [],
       "type": "html"
      }
     },
     "output_type": "display_data"
    }
   ],
   "source": [
    "def remove_outliers(df):\n",
    "  \"\"\"\n",
    "  This function preprocesses our data,\n",
    "  removes unnecessary outliers and\n",
    "  creates 10 min time bins\n",
    "  \"\"\"\n",
    "  \n",
    "  # Create Pickup and Dropoff UNIX time from datetime feature\n",
    "  df = df.select(\"*\", F.unix_timestamp(df.tpep_pickup_datetime).alias('Pickup_Unix'),\n",
    "                      F.unix_timestamp(df.tpep_dropoff_datetime).alias('Dropoff_Unix'))\n",
    "  \n",
    "  #Changing the datatype in numerical columns to double\n",
    "  tcols = ['passenger_count', 'trip_distance', 'total_amount']\n",
    "  for c in tcols:\n",
    "    # add condition for the cols to be type cast\n",
    "    df = df.withColumn(c, df[c].cast('double'))\n",
    "  \n",
    "  # Create Duration and Speed columns, remove Dropoff_Unix, datetime of pickup and dropoff\n",
    "  df = df.withColumn(\"Duration\", F.round((df['Dropoff_Unix'] - df['Pickup_Unix'])/60,2))\\\n",
    "                        .withColumn(\"Speed\", F.round(60*(df['trip_distance'] / ((df['Dropoff_Unix']-df['Pickup_Unix'])/60)),2))\\\n",
    "                        .drop(\"Dropoff_Unix\",\"tpep_dropoff_datetime\",\"tpep_pickup_datetime\")\n",
    "  \n",
    "  \n",
    "  #Filter Outliers, Add Time Bin\n",
    "  df = df.where((df['Duration']>=1) & (df['Duration']<=720))\\\n",
    "         .where((df['Speed']>0) & (df['Speed']<=72))\\\n",
    "         .where((df['trip_distance']>0) & (df['trip_distance']<=42))\\\n",
    "         .where((df['total_amount']>=2.5) & (df['total_amount']<=150))\\\n",
    "         .filter((F.isnull(df['passenger_count'])==False) & (df['passenger_count']>0))\\\n",
    "         .withColumn(\"BIN\",((df.Pickup_Unix - 1546300800)/1800).cast(\"int\")).withColumn(\"COUNT\",F.lit(1))\n",
    "\n",
    "  # Group By Time Bins and Divisions and get final dataset\n",
    "  df = df.groupBy([\"BIN\",\"Division\"])\\\n",
    "         .agg(F.mean(\"Duration\"),F.mean(\"Speed\"),F.mean(\"trip_distance\"),F.mean(\"total_amount\"),F.sum(\"COUNT\"))\\\n",
    "         .sort(\"BIN\")\\\n",
    "         .drop(\"BIN\")\n",
    "\n",
    "  return df\n",
    "\n",
    "\n",
    "taxi_clean = remove_outliers(taxi).cache()\n",
    "taxi_clean.show(10)"
   ]
  },
  {
   "cell_type": "code",
   "execution_count": 0,
   "metadata": {
    "application/vnd.databricks.v1+cell": {
     "inputWidgets": {},
     "nuid": "d8787ce5-5ef7-4870-8e4c-2989a94788dc",
     "showTitle": false,
     "title": ""
    }
   },
   "outputs": [
    {
     "data": {
      "text/html": [
       "<style scoped>\n",
       "  .ansiout {\n",
       "    display: block;\n",
       "    unicode-bidi: embed;\n",
       "    white-space: pre-wrap;\n",
       "    word-wrap: break-word;\n",
       "    word-break: break-all;\n",
       "    font-family: \"Source Code Pro\", \"Menlo\", monospace;;\n",
       "    font-size: 13px;\n",
       "    color: #555;\n",
       "    margin-left: 4px;\n",
       "    line-height: 19px;\n",
       "  }\n",
       "</style>\n",
       "<div class=\"ansiout\"></div>"
      ]
     },
     "metadata": {
      "application/vnd.databricks.v1+output": {
       "addedWidgets": {},
       "arguments": {},
       "data": "<div class=\"ansiout\"></div>",
       "datasetInfos": [],
       "metadata": {},
       "removedWidgets": [],
       "type": "html"
      }
     },
     "output_type": "display_data"
    }
   ],
   "source": [
    "divs = [\"Manhattan\", \"Queens\", \"Brooklyn\", \"Bronx\", \"Unknown\"]\n",
    "\n",
    "for x in divs:\n",
    "  temp = t.withColumn(\"Division\", F.when(F.col(\"Division\")==x, 1).otherwise(0))\n",
    "  locals()[\"df_\" + x] = temp.filter(\"Division > 0\")\n",
    "\n",
    "divs = [\"Manhattan\", \"Queens\", \"Brooklyn\", \"Bronx\", \"Unknown\"]\n",
    "dfs = [df_Manhattan, df_Queens, df_Brooklyn, df_Bronx, df_Unknown]\n",
    "\n",
    "for i in range(0,5):\n",
    "  #groupBy and .filter(\"Division == 'Bronx'\")\\\n",
    "  locals()[\"s\" + divs[i]] = dfs[i].groupBy(\"BIN\")\\\n",
    "                .agg(F.mean(\"Duration\"),F.mean(\"Speed\"),F.mean(\"trip_distance\"),F.mean(\"total_amount\"),F.sum(\"COUNT\"))\\\n",
    "        .sort(\"BIN\")\\\n",
    "        .drop(\"BIN\")"
   ]
  },
  {
   "cell_type": "markdown",
   "metadata": {
    "application/vnd.databricks.v1+cell": {
     "inputWidgets": {},
     "nuid": "639fd9e9-d154-4872-af04-f42e29a5c5f1",
     "showTitle": false,
     "title": ""
    }
   },
   "source": [
    "##Check Granger Causality"
   ]
  },
  {
   "cell_type": "code",
   "execution_count": 0,
   "metadata": {
    "application/vnd.databricks.v1+cell": {
     "inputWidgets": {},
     "nuid": "d2186fb2-d747-4234-be15-9f635bea8bcf",
     "showTitle": false,
     "title": ""
    }
   },
   "outputs": [
    {
     "data": {
      "text/html": [
       "<style scoped>\n",
       "  .ansiout {\n",
       "    display: block;\n",
       "    unicode-bidi: embed;\n",
       "    white-space: pre-wrap;\n",
       "    word-wrap: break-word;\n",
       "    word-break: break-all;\n",
       "    font-family: \"Source Code Pro\", \"Menlo\", monospace;;\n",
       "    font-size: 13px;\n",
       "    color: #555;\n",
       "    margin-left: 4px;\n",
       "    line-height: 19px;\n",
       "  }\n",
       "</style>\n",
       "<div class=\"ansiout\">Out[21]: </div>"
      ]
     },
     "metadata": {
      "application/vnd.databricks.v1+output": {
       "addedWidgets": {},
       "arguments": {},
       "data": "<div class=\"ansiout\">Out[21]: </div>",
       "datasetInfos": [],
       "metadata": {},
       "removedWidgets": [],
       "type": "html"
      }
     },
     "output_type": "display_data"
    },
    {
     "data": {
      "text/html": [
       "<div>\n",
       "<style scoped>\n",
       "    .dataframe tbody tr th:only-of-type {\n",
       "        vertical-align: middle;\n",
       "    }\n",
       "\n",
       "    .dataframe tbody tr th {\n",
       "        vertical-align: top;\n",
       "    }\n",
       "\n",
       "    .dataframe thead th {\n",
       "        text-align: right;\n",
       "    }\n",
       "</style>\n",
       "<table border=\"1\" class=\"dataframe\">\n",
       "  <thead>\n",
       "    <tr style=\"text-align: right;\">\n",
       "      <th></th>\n",
       "      <th>avg(Duration)_x</th>\n",
       "      <th>avg(Speed)_x</th>\n",
       "      <th>avg(trip_distance)_x</th>\n",
       "      <th>avg(total_amount)_x</th>\n",
       "      <th>sum(COUNT)_x</th>\n",
       "    </tr>\n",
       "  </thead>\n",
       "  <tbody>\n",
       "    <tr>\n",
       "      <th>avg(Duration)_y</th>\n",
       "      <td>1.0</td>\n",
       "      <td>0.0</td>\n",
       "      <td>0.0</td>\n",
       "      <td>0.0</td>\n",
       "      <td>0.0</td>\n",
       "    </tr>\n",
       "    <tr>\n",
       "      <th>avg(Speed)_y</th>\n",
       "      <td>0.0</td>\n",
       "      <td>1.0</td>\n",
       "      <td>0.0</td>\n",
       "      <td>0.0</td>\n",
       "      <td>0.0</td>\n",
       "    </tr>\n",
       "    <tr>\n",
       "      <th>avg(trip_distance)_y</th>\n",
       "      <td>0.0</td>\n",
       "      <td>0.0</td>\n",
       "      <td>1.0</td>\n",
       "      <td>0.0</td>\n",
       "      <td>0.0</td>\n",
       "    </tr>\n",
       "    <tr>\n",
       "      <th>avg(total_amount)_y</th>\n",
       "      <td>0.0</td>\n",
       "      <td>0.0</td>\n",
       "      <td>0.0</td>\n",
       "      <td>1.0</td>\n",
       "      <td>0.0</td>\n",
       "    </tr>\n",
       "    <tr>\n",
       "      <th>sum(COUNT)_y</th>\n",
       "      <td>0.0</td>\n",
       "      <td>0.0</td>\n",
       "      <td>0.0</td>\n",
       "      <td>0.0</td>\n",
       "      <td>1.0</td>\n",
       "    </tr>\n",
       "  </tbody>\n",
       "</table>\n",
       "</div>"
      ]
     },
     "metadata": {
      "application/vnd.databricks.v1+output": {
       "addedWidgets": {},
       "arguments": {},
       "data": "<div>\n<style scoped>\n    .dataframe tbody tr th:only-of-type {\n        vertical-align: middle;\n    }\n\n    .dataframe tbody tr th {\n        vertical-align: top;\n    }\n\n    .dataframe thead th {\n        text-align: right;\n    }\n</style>\n<table border=\"1\" class=\"dataframe\">\n  <thead>\n    <tr style=\"text-align: right;\">\n      <th></th>\n      <th>avg(Duration)_x</th>\n      <th>avg(Speed)_x</th>\n      <th>avg(trip_distance)_x</th>\n      <th>avg(total_amount)_x</th>\n      <th>sum(COUNT)_x</th>\n    </tr>\n  </thead>\n  <tbody>\n    <tr>\n      <th>avg(Duration)_y</th>\n      <td>1.0</td>\n      <td>0.0</td>\n      <td>0.0</td>\n      <td>0.0</td>\n      <td>0.0</td>\n    </tr>\n    <tr>\n      <th>avg(Speed)_y</th>\n      <td>0.0</td>\n      <td>1.0</td>\n      <td>0.0</td>\n      <td>0.0</td>\n      <td>0.0</td>\n    </tr>\n    <tr>\n      <th>avg(trip_distance)_y</th>\n      <td>0.0</td>\n      <td>0.0</td>\n      <td>1.0</td>\n      <td>0.0</td>\n      <td>0.0</td>\n    </tr>\n    <tr>\n      <th>avg(total_amount)_y</th>\n      <td>0.0</td>\n      <td>0.0</td>\n      <td>0.0</td>\n      <td>1.0</td>\n      <td>0.0</td>\n    </tr>\n    <tr>\n      <th>sum(COUNT)_y</th>\n      <td>0.0</td>\n      <td>0.0</td>\n      <td>0.0</td>\n      <td>0.0</td>\n      <td>1.0</td>\n    </tr>\n  </tbody>\n</table>\n</div>",
       "datasetInfos": [],
       "metadata": {},
       "removedWidgets": [],
       "textData": null,
       "type": "htmlSandbox"
      }
     },
     "output_type": "display_data"
    }
   ],
   "source": [
    "from statsmodels.tsa.stattools import grangercausalitytests\n",
    "\n",
    "maxlag=12\n",
    "test = 'ssr_chi2test'\n",
    "# [10 min, hourly ,12 hours, 24 hours, Weekly]\n",
    "# [1,6,72,144,1008]\n",
    "# sdf.select(sdf.columns[i]).collect()\n",
    "\n",
    "def grangers_causation_matrix(data, variables, test='ssr_chi2test', verbose=False):    \n",
    "\n",
    "    df = pd.DataFrame(np.zeros((len(variables), len(variables))), columns=variables, index=variables)\n",
    "    for c in df.columns:\n",
    "        for r in df.index:\n",
    "            test_result = grangercausalitytests(data.select(r,c).collect(), maxlag=maxlag, verbose=False)\n",
    "            p_values = [round(test_result[i+1][0][test][1],4) for i in range(maxlag)]\n",
    "            if verbose: print(f'Y = {r}, X = {c}, P Values = {p_values}')\n",
    "            min_p_value = np.min(p_values)\n",
    "            df.loc[r, c] = min_p_value\n",
    "    df.columns = [var + '_x' for var in variables]\n",
    "    df.index = [var + '_y' for var in variables]\n",
    "    return df\n",
    "\n",
    "grangers_causation_matrix(sManhattan, variables = sManhattan.columns) "
   ]
  },
  {
   "cell_type": "markdown",
   "metadata": {
    "application/vnd.databricks.v1+cell": {
     "inputWidgets": {},
     "nuid": "6c68a331-9b55-490b-b96c-1da6c881632e",
     "showTitle": false,
     "title": ""
    }
   },
   "source": [
    "##Perform Johanson's Cointegration Test and Report Summary"
   ]
  },
  {
   "cell_type": "code",
   "execution_count": 0,
   "metadata": {
    "application/vnd.databricks.v1+cell": {
     "inputWidgets": {},
     "nuid": "ce7de9d3-2f4e-4f98-be73-65ee0259890a",
     "showTitle": false,
     "title": ""
    }
   },
   "outputs": [
    {
     "data": {
      "text/html": [
       "<style scoped>\n",
       "  .ansiout {\n",
       "    display: block;\n",
       "    unicode-bidi: embed;\n",
       "    white-space: pre-wrap;\n",
       "    word-wrap: break-word;\n",
       "    word-break: break-all;\n",
       "    font-family: \"Source Code Pro\", \"Menlo\", monospace;;\n",
       "    font-size: 13px;\n",
       "    color: #555;\n",
       "    margin-left: 4px;\n",
       "    line-height: 19px;\n",
       "  }\n",
       "</style>\n",
       "<div class=\"ansiout\">Name   ::  Test Stat &gt; C(95%)    =&gt;   Signif  \n",
       " ----------------------------------------\n",
       "avg(Duration) ::  1781.89   &gt; 60.0627   =&gt;   True\n",
       "avg(Speed) ::  1054.56   &gt; 40.1749   =&gt;   True\n",
       "avg(trip_distance) ::  444.1     &gt; 24.2761   =&gt;   True\n",
       "avg(total_amount) ::  141.07    &gt; 12.3212   =&gt;   True\n",
       "sum(COUNT) ::  0.23      &gt; 4.1296    =&gt;   False\n",
       "</div>"
      ]
     },
     "metadata": {
      "application/vnd.databricks.v1+output": {
       "addedWidgets": {},
       "arguments": {},
       "data": "<div class=\"ansiout\">Name   ::  Test Stat &gt; C(95%)    =&gt;   Signif  \n ----------------------------------------\navg(Duration) ::  1781.89   &gt; 60.0627   =&gt;   True\navg(Speed) ::  1054.56   &gt; 40.1749   =&gt;   True\navg(trip_distance) ::  444.1     &gt; 24.2761   =&gt;   True\navg(total_amount) ::  141.07    &gt; 12.3212   =&gt;   True\nsum(COUNT) ::  0.23      &gt; 4.1296    =&gt;   False\n</div>",
       "datasetInfos": [],
       "metadata": {},
       "removedWidgets": [],
       "type": "html"
      }
     },
     "output_type": "display_data"
    }
   ],
   "source": [
    "from statsmodels.tsa.vector_ar.vecm import coint_johansen\n",
    "\n",
    "def adjust(val, length= 6): return str(val).ljust(length)\n",
    "\n",
    "def cointegration_test(df, alpha=0.05): \n",
    "    \"\"\"Perform Johanson's Cointegration Test and Report Summary\"\"\"\n",
    "    df = df.toPandas()\n",
    "    out = coint_johansen(df,-1,5)\n",
    "    d = {'0.90':0, '0.95':1, '0.99':2}\n",
    "    traces = out.lr1\n",
    "    cvts = out.cvt[:, d[str(1-alpha)]]\n",
    "    \n",
    "\n",
    "    # Summary\n",
    "    print('Name   ::  Test Stat > C(95%)    =>   Signif  \\n', '--'*20)\n",
    "    for col, trace, cvt in zip(df.columns, traces, cvts):\n",
    "        print(adjust(col), ':: ', adjust(round(trace,2), 9), \">\", adjust(cvt, 8), ' =>  ' , trace > cvt)\n",
    "        \n",
    "        \n",
    "cointegration_test(sManhattan)"
   ]
  },
  {
   "cell_type": "markdown",
   "metadata": {
    "application/vnd.databricks.v1+cell": {
     "inputWidgets": {},
     "nuid": "515312ff-9bab-4474-a78c-9080cc617b9b",
     "showTitle": false,
     "title": ""
    }
   },
   "source": [
    "<h3> Train & Test Split"
   ]
  },
  {
   "cell_type": "code",
   "execution_count": 0,
   "metadata": {
    "application/vnd.databricks.v1+cell": {
     "inputWidgets": {},
     "nuid": "0a63ada0-765a-4224-a366-65b71f7ff17c",
     "showTitle": false,
     "title": ""
    }
   },
   "outputs": [
    {
     "data": {
      "text/html": [
       "<style scoped>\n",
       "  .ansiout {\n",
       "    display: block;\n",
       "    unicode-bidi: embed;\n",
       "    white-space: pre-wrap;\n",
       "    word-wrap: break-word;\n",
       "    word-break: break-all;\n",
       "    font-family: \"Source Code Pro\", \"Menlo\", monospace;;\n",
       "    font-size: 13px;\n",
       "    color: #555;\n",
       "    margin-left: 4px;\n",
       "    line-height: 19px;\n",
       "  }\n",
       "</style>\n",
       "<div class=\"ansiout\"></div>"
      ]
     },
     "metadata": {
      "application/vnd.databricks.v1+output": {
       "addedWidgets": {},
       "arguments": {},
       "data": "<div class=\"ansiout\"></div>",
       "datasetInfos": [],
       "metadata": {},
       "removedWidgets": [],
       "type": "html"
      }
     },
     "output_type": "display_data"
    }
   ],
   "source": [
    "from pyspark.sql.functions import monotonically_increasing_id\n",
    "from pyspark.sql.functions import pandas_udf, PandasUDFType\n",
    "from pyspark.sql.types import DoubleType\n",
    "\n",
    "nobs = round(0.2*(sManhattan.count()))\n",
    "from pyspark.sql.functions import pandas_udf, PandasUDFType\n",
    "from pyspark.sql.types import *\n",
    "schema = StructType([\n",
    "        StructField(\"avg(Duration)\", DoubleType(), True),\n",
    "        StructField(\"avg(Speed)\", DoubleType(), True),\n",
    "        StructField(\"avg(trip_distance)\", DoubleType(), True),\n",
    "        StructField(\"avg(total_amount)\", DoubleType(), True),\n",
    "        StructField(\"sum(COUNT)\", DoubleType(), True)\n",
    "    ])\n",
    "\n",
    "@pandas_udf(schema,PandasUDFType.GROUPED_MAP)\n",
    "def trainSplit(df):\n",
    "  nobs = round(0.05*len(df))\n",
    "  df_train = df[0:-nobs]\n",
    "  return df_train\n",
    "\n",
    "@pandas_udf(schema,PandasUDFType.GROUPED_MAP)\n",
    "def testSplit(df):\n",
    "  nobs = round(0.05*len(df))\n",
    "  df_test = df[-nobs:]\n",
    "  return df_test\n",
    "\n",
    "sdf_train = sManhattan.groupby().apply(trainSplit)\n",
    "sdf_test = sManhattan.groupby().apply(testSplit)"
   ]
  },
  {
   "cell_type": "markdown",
   "metadata": {
    "application/vnd.databricks.v1+cell": {
     "inputWidgets": {},
     "nuid": "41baf163-16bd-4fe2-acbe-96f054b113fc",
     "showTitle": false,
     "title": ""
    }
   },
   "source": [
    "<h3> Augmented Dickey-Fuller Test (ADF Test) for Stationarity"
   ]
  },
  {
   "cell_type": "code",
   "execution_count": 0,
   "metadata": {
    "application/vnd.databricks.v1+cell": {
     "inputWidgets": {},
     "nuid": "2b199dbb-2a0e-446b-9635-c9342746553e",
     "showTitle": false,
     "title": ""
    }
   },
   "outputs": [
    {
     "data": {
      "text/html": [
       "<style scoped>\n",
       "  .ansiout {\n",
       "    display: block;\n",
       "    unicode-bidi: embed;\n",
       "    white-space: pre-wrap;\n",
       "    word-wrap: break-word;\n",
       "    word-break: break-all;\n",
       "    font-family: \"Source Code Pro\", \"Menlo\", monospace;;\n",
       "    font-size: 13px;\n",
       "    color: #555;\n",
       "    margin-left: 4px;\n",
       "    line-height: 19px;\n",
       "  }\n",
       "</style>\n",
       "<div class=\"ansiout\">+--------------+------------------+\n",
       "  Stationarity|            Column|\n",
       "+--------------+------------------+\n",
       " is stationary|     avg(Duration)|\n",
       " is stationary|        avg(Speed)|\n",
       " is stationary|avg(trip_distance)|\n",
       " is stationary| avg(total_amount)|\n",
       " is stationary|        sum(COUNT)|\n",
       "+--------------+------------------+\n",
       "\n",
       "</div>"
      ]
     },
     "metadata": {
      "application/vnd.databricks.v1+output": {
       "addedWidgets": {},
       "arguments": {},
       "data": "<div class=\"ansiout\">+--------------+------------------+\n|  Stationarity|            Column|\n+--------------+------------------+\n| is stationary|     avg(Duration)|\n| is stationary|        avg(Speed)|\n| is stationary|avg(trip_distance)|\n| is stationary| avg(total_amount)|\n| is stationary|        sum(COUNT)|\n+--------------+------------------+\n\n</div>",
       "datasetInfos": [],
       "metadata": {},
       "removedWidgets": [],
       "type": "html"
      }
     },
     "output_type": "display_data"
    }
   ],
   "source": [
    "def adfuller_test(series, signif=0.05, name='', verbose=False):\n",
    "    r = adfuller(series, autolag='AIC')\n",
    "    output = {'test_statistic':round(r[0], 4), 'pvalue':round(r[1], 4), 'n_lags':round(r[2], 4), 'n_obs':r[3]}\n",
    "    p_value = output['pvalue'] \n",
    "\n",
    "    if p_value <= signif:\n",
    "        return [name,\" is stationary\"]\n",
    "    else:\n",
    "        return [name,\" is non-stationary\"]\n",
    "      \n",
    "      \n",
    "      \n",
    "      \n",
    "schemaArr = StructType([\n",
    "        StructField(\"Stationarity\", StringType(), True),\n",
    "        StructField(\"Column\", StringType(), True)\n",
    "    ])\n",
    "@pandas_udf(schemaArr,PandasUDFType.GROUPED_MAP)\n",
    "def adFullerStationarity_test(df_train):\n",
    "  df_af = pd.DataFrame()\n",
    "  for name, column in df_train.iteritems():\n",
    "      x= adfuller_test(column, name=column.name)\n",
    "      df_af = df_af.append({\"Column\":x[0],\"Stationarity\":x[1]},ignore_index=True )\n",
    "  return df_af\n",
    "\n",
    "sdf_train.groupby().apply(adFullerStationarity_test).show()"
   ]
  },
  {
   "cell_type": "markdown",
   "metadata": {
    "application/vnd.databricks.v1+cell": {
     "inputWidgets": {},
     "nuid": "d2db4797-eae9-4747-883f-3149a70e9b51",
     "showTitle": false,
     "title": ""
    }
   },
   "source": [
    "**As per the above analysis and tests, we conclude that we can use the Vector Autoregressor Model for our time series prediction**"
   ]
  }
 ],
 "metadata": {
  "application/vnd.databricks.v1+notebook": {
   "dashboards": [],
   "language": "python",
   "notebookMetadata": {
    "pythonIndentUnit": 2
   },
   "notebookName": "taxi_ANALYSIS",
   "notebookOrigID": 520614327935896,
   "widgets": {}
  },
  "kernelspec": {
   "display_name": "Python 3 (ipykernel)",
   "language": "python",
   "name": "python3"
  },
  "language_info": {
   "codemirror_mode": {
    "name": "ipython",
    "version": 3
   },
   "file_extension": ".py",
   "mimetype": "text/x-python",
   "name": "python",
   "nbconvert_exporter": "python",
   "pygments_lexer": "ipython3",
   "version": "3.9.7"
  }
 },
 "nbformat": 4,
 "nbformat_minor": 1
}
